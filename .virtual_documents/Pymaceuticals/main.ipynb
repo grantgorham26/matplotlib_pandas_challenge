


# Dependencies and Setup
import matplotlib.pyplot as plt
import pandas as pd
import scipy.stats as st

# Study data files
mouse_metadata_path = "data/Mouse_metadata.csv"
study_results_path = "data/Study_results.csv"

# Read the mouse data and the study results
mouse_metadata = pd.read_csv(mouse_metadata_path)
study_results = pd.read_csv(study_results_path)

# Combine the data into a single DataFrame
combined_df=study_results.merge(mouse_metadata, on='Mouse ID',how='left')

# Display the data table for preview
combined_df.head()


# Checking the number of mice.
combined_df.loc[ : ,'Mouse ID'].nunique()


# Our data should be uniquely identified by Mouse ID and Timepoint
# Get the duplicate mice by ID number that shows up for Mouse ID and Timepoint. 
df=combined_df.value_counts(subset=['Mouse ID'])
df.head(10)



#new df of the mouse with multiple mouse ids 
df=combined_df.loc[combined_df['Mouse ID']=='g989']
df


# Create a clean DataFrame by dropping the duplicate mouse by its ID.
cleaned_df=combined_df.loc[combined_df['Mouse ID']!='g989']

cleaned_df


#export cleaned df as a csv to data folder
cleaned_df.to_csv('data/cleaned.csv')


# Checking the number of mice in the clean DataFrame.
cleaned_df.loc[:,'Mouse ID'].nunique()





mean=cleaned_df.groupby(['Drug Regimen'])['Tumor Volume (mm3)'].mean()
mean.head()


median=cleaned_df.groupby(['Drug Regimen'])['Tumor Volume (mm3)'].median()
median.head()


variance=cleaned_df.groupby(['Drug Regimen'])['Tumor Volume (mm3)'].var()
variance.head()


std=cleaned_df.groupby(['Drug Regimen'])['Tumor Volume (mm3)'].std()
std.head()


sem=cleaned_df.groupby(['Drug Regimen'])['Tumor Volume (mm3)'].sem()
sem.head()


drug_summary_df=pd.DataFrame({'Mean Tumor Vol':mean,'Median Tumor Vol':median, 'Variance of Tumor Vol':variance, 
                              'Std. dev of Tumor Vol':std, 'Std. Error of Tumor Vol':sem})
drug_summary_df





df_agg=cleaned_df.groupby(['Drug Regimen']).agg({'Tumor Volume (mm3)':['mean','median','var','std','sem']})
df_agg


# Generate a bar plot showing the total number of rows (Mouse ID/Timepoints) for each drug regimen using Pandas.
#filter data
bar_df=cleaned_df.groupby(['Drug Regimen'])['Timepoint'].count()
bar_df.sort_values(ascending=False,inplace=True)

bar_df.head()



bar_df.plot(kind='bar',xlabel='Drug Regimen',ylabel='# of Mouse Observed Timpoints')



# Generate a bar plot showing the total number of rows (Mouse ID/Timepoints) for each drug regimen using pyplot.
x_axis=cleaned_df['Drug Regimen'].unique()
height= bar_df
plt.bar(x_axis,height)

plt.xticks(rotation='vertical')
plt.xlabel('Drug Regimen')
plt.ylabel('# of Mouse Observed Timpoints')



# Generate a pie plot showing the distribution of female versus male mice using Pandas
sex_df=cleaned_df.loc[:,'Sex']
diff_sex_df=sex_df.value_counts()

#find number of males and females
diff_sex_df=sex_df.value_counts()
diff_sex_df
diff_sex_df.plot(kind='pie',ylabel='Sex', autopct='%1.1f%%')



# Generate a pie plot showing the distribution of female versus male mice using pyplot
plt.pie(diff_sex_df,labels=['Male','Female'],autopct='%1.1f%%')
plt.ylabel('Sex')






# Calculate the final tumor volume of each mouse across four of the treatment regimens:  
# Capomulin, Ramicane, Infubinol, and Ceftamin


# max_timepoint=cleaned_df['Timepoint'].max()

filter_df=cleaned_df.loc[(cleaned_df['Drug Regimen']== 'Capomulin') | (cleaned_df['Drug Regimen']== 'Ramicane')
             | (cleaned_df['Drug Regimen']== 'Infubinol') | (cleaned_df['Drug Regimen']== 'Ceftamin')]

# Start by getting the last (greatest) timepoint for each mouse
# filter_df=cleaned_df.loc[(cleaned_df['Timepoint']== max_timepoint)]
max_time=filter_df.loc[:,'Timepoint'].max()

four_treatments=filter_df[filter_df['Timepoint']==max_time]
four_treatments


# Merge this group df with the original DataFrame to get the tumor volume at the last timepoint
new_df=pd.merge(four_treatments,mouse_metadata,how='inner')
new_df.set_index('Drug Regimen').sort_values('Drug Regimen')

new_df.nunique()


# Put treatments into a list for for loop (and later for plot labels)

# Create empty list to fill with tumor vol data (for plotting)


# Calculate the IQR and quantitatively determine if there are any potential outliers. 

    
    # Locate the rows which contain mice on each drug and get the tumor volumes

    
    # add subset 

    
    # Determine outliers using upper and lower bounds


# Generate a box plot that shows the distrubution of the tumor volume for each treatment group.


# Generate a line plot of tumor volume vs. time point for a single mouse treated with Capomulin


# Generate a scatter plot of mouse weight vs. the average observed tumor volume for the entire Capomulin regimen





# Calculate the correlation coefficient and a linear regression model 
# for mouse weight and average observed tumor volume for the entire Capomulin regimen
